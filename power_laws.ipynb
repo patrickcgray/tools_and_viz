{
  "nbformat": 4,
  "nbformat_minor": 0,
  "metadata": {
    "colab": {
      "name": "power_laws.ipynb",
      "provenance": [],
      "authorship_tag": "ABX9TyMGEndIoNRaFfWmE61h+QK8",
      "include_colab_link": true
    },
    "kernelspec": {
      "name": "python3",
      "display_name": "Python 3"
    },
    "language_info": {
      "name": "python"
    }
  },
  "cells": [
    {
      "cell_type": "markdown",
      "metadata": {
        "id": "view-in-github",
        "colab_type": "text"
      },
      "source": [
        "<a href=\"https://colab.research.google.com/github/patrickcgray/tools_and_viz/blob/main/power_laws.ipynb\" target=\"_parent\"><img src=\"https://colab.research.google.com/assets/colab-badge.svg\" alt=\"Open In Colab\"/></a>"
      ]
    },
    {
      "cell_type": "markdown",
      "source": [
        "## Visualizing power laws and validating them"
      ],
      "metadata": {
        "id": "aJ2belJ21iCS"
      }
    },
    {
      "cell_type": "code",
      "execution_count": null,
      "metadata": {
        "id": "fQj7lJAR1g6b"
      },
      "outputs": [],
      "source": [
        "Power laws are defined as y=ax^b"
      ]
    },
    {
      "cell_type": "code",
      "source": [
        "import numpy as np\n",
        "import matplotlib.pyplot as plt\n",
        "a = 1\n",
        "b = 2\n",
        "x = np.arange(1,300,1)\n",
        "y = a*x**b"
      ],
      "metadata": {
        "id": "jhyXQ5E61p0i"
      },
      "execution_count": 11,
      "outputs": []
    },
    {
      "cell_type": "markdown",
      "source": [
        ""
      ],
      "metadata": {
        "id": "Ku2EpaTs28XY"
      }
    },
    {
      "cell_type": "code",
      "source": [
        "plt.plot(x,y)"
      ],
      "metadata": {
        "colab": {
          "base_uri": "https://localhost:8080/",
          "height": 282
        },
        "id": "OccZz8dt28uR",
        "outputId": "35e54621-a98f-4777-ebcd-df3014cd491c"
      },
      "execution_count": 13,
      "outputs": [
        {
          "output_type": "execute_result",
          "data": {
            "text/plain": [
              "[<matplotlib.lines.Line2D at 0x7ff172c6e390>]"
            ]
          },
          "metadata": {},
          "execution_count": 13
        },
        {
          "output_type": "display_data",
          "data": {
            "text/plain": [
              "<Figure size 432x288 with 1 Axes>"
            ],
            "image/png": "[encoded data removed]"
          },
          "metadata": {
            "needs_background": "light"
          }
        }
      ]
    },
    {
      "cell_type": "markdown",
      "source": [
        "Power law relationships should be linear on a log-log plot so this is an easy test"
      ],
      "metadata": {
        "id": "7DCFGQaR240V"
      }
    },
    {
      "cell_type": "code",
      "source": [
        "plt.plot(x,y)\n",
        "plt.yscale('log')\n",
        "plt.xscale('log')"
      ],
      "metadata": {
        "colab": {
          "base_uri": "https://localhost:8080/",
          "height": 269
        },
        "id": "kxxQ8Ec4166c",
        "outputId": "5cb73164-a145-4e99-e020-afb1f57a6b5c"
      },
      "execution_count": 12,
      "outputs": [
        {
          "output_type": "display_data",
          "data": {
            "text/plain": [
              "<Figure size 432x288 with 1 Axes>"
            ],
            "image/png": "[encoded data removed]"
          },
          "metadata": {
            "needs_background": "light"
          }
        }
      ]
    },
    {
      "cell_type": "code",
      "source": [
        "a = 10\n",
        "b = 0.8\n",
        "x = np.arange(400,700,1)\n",
        "y = a*x**(-b)"
      ],
      "metadata": {
        "id": "NMjIgFTF12Wp"
      },
      "execution_count": 34,
      "outputs": []
    },
    {
      "cell_type": "markdown",
      "source": [
        "Now the attenuation data of light in water is often fit to a power law and the exponent (gamma or b above) is used in a relationship with the particulate size distribution. Let's see if we can make a curve that looks like attenuation."
      ],
      "metadata": {
        "id": "d_9TWVmN4zw6"
      }
    },
    {
      "cell_type": "code",
      "source": [
        "plt.plot(x,y)\n",
        "plt.ylim(0,.1)"
      ],
      "metadata": {
        "colab": {
          "base_uri": "https://localhost:8080/",
          "height": 286
        },
        "id": "zoH_7hx33FLv",
        "outputId": "7dbe3800-668b-43af-f569-0cdf829c67af"
      },
      "execution_count": 39,
      "outputs": [
        {
          "output_type": "execute_result",
          "data": {
            "text/plain": [
              "(0.0, 0.1)"
            ]
          },
          "metadata": {},
          "execution_count": 39
        },
        {
          "output_type": "display_data",
          "data": {
            "text/plain": [
              "<Figure size 432x288 with 1 Axes>"
            ],
            "image/png": "[encoded data removed]"
          },
          "metadata": {
            "needs_background": "light"
          }
        }
      ]
    },
    {
      "cell_type": "markdown",
      "source": [
        "Sure does!"
      ],
      "metadata": {
        "id": "z-Wtz1Vb5E4E"
      }
    },
    {
      "cell_type": "code",
      "source": [
        ""
      ],
      "metadata": {
        "id": "8opNN94-3Gjc"
      },
      "execution_count": null,
      "outputs": []
    }
  ]
}